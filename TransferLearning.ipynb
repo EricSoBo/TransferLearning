{
  "cells": [
    {
      "cell_type": "code",
      "execution_count": null,
      "metadata": {
        "id": "itfINtUN2kXl"
      },
      "outputs": [],
      "source": [
        "%matplotlib inline\n",
        "\n",
        "import os\n",
        "\n",
        "#if using Theano with GPU\n",
        "#os.environ[\"KERAS_BACKEND\"] = \"tensorflow\"\n",
        "\n",
        "import random\n",
        "import numpy as np\n",
        "import keras\n",
        "\n",
        "import matplotlib.pyplot as plt\n",
        "from matplotlib.pyplot import imshow\n",
        "\n",
        "import keras.utils as image\n",
        "from keras.applications.imagenet_utils import preprocess_input\n",
        "from keras.models import Sequential\n",
        "from keras.layers import Dense, Dropout, Flatten, Activation\n",
        "from keras.layers import Conv2D, MaxPooling2D\n",
        "from keras.models import Model\n",
        "\n",
        "from google.colab import files"
      ]
    },
    {
      "cell_type": "code",
      "execution_count": null,
      "metadata": {
        "id": "ogGEbqV77E0B"
      },
      "outputs": [],
      "source": [
        "# Coletando o Dataset\n",
        "\n",
        "! pip install -q kaggle\n",
        "\n",
        "files.upload() # Upload do Token API do Kaggle"
      ]
    },
    {
      "cell_type": "code",
      "execution_count": null,
      "metadata": {
        "id": "aJD6h5Sf7wEN"
      },
      "outputs": [],
      "source": [
        "! mkdir ~/.kaggle\n",
        "! cp kaggle.json ~/.kaggle/"
      ]
    },
    {
      "cell_type": "code",
      "execution_count": null,
      "metadata": {
        "id": "rYnUs3L48C3i"
      },
      "outputs": [],
      "source": [
        "! chmod 600 ~/.kaggle/kaggle.json\n",
        "! kaggle datasets list"
      ]
    },
    {
      "cell_type": "code",
      "execution_count": null,
      "metadata": {
        "id": "yjmufnieD3eZ"
      },
      "outputs": [],
      "source": [
        "! kaggle datasets download -d chrisfilo/fruit-recognition"
      ]
    },
    {
      "cell_type": "code",
      "execution_count": null,
      "metadata": {
        "id": "fBdZ4-pAFZDv"
      },
      "outputs": [],
      "source": [
        "! ls"
      ]
    },
    {
      "cell_type": "code",
      "execution_count": null,
      "metadata": {
        "id": "rd6ugE-OFcKn"
      },
      "outputs": [],
      "source": [
        "! mkdir train\n",
        "! unzip fruit-recognition.zip -d train"
      ]
    },
    {
      "cell_type": "code",
      "execution_count": null,
      "metadata": {
        "id": "8Tjy4zwqGh2N"
      },
      "outputs": [],
      "source": [
        "!mkdir Train\n",
        "!mv train/Plum/ Train/"
      ]
    },
    {
      "cell_type": "code",
      "execution_count": null,
      "metadata": {
        "id": "kZkoCBYBIqJ3"
      },
      "outputs": [],
      "source": [
        "!mv train/Tomatoes Train/"
      ]
    },
    {
      "cell_type": "code",
      "execution_count": null,
      "metadata": {
        "id": "5bqwsUNyIxH-"
      },
      "outputs": [],
      "source": [
        "!ls Train/Tomatoes # Vendo se está tudo correto"
      ]
    },
    {
      "cell_type": "code",
      "execution_count": null,
      "metadata": {
        "id": "nzKxlVUQ3_zR"
      },
      "outputs": [],
      "source": [
        "# Pegando uma rede neural pré treinada (InceptionV3)\n",
        "\n",
        "pre_model = keras.applications.InceptionV3(weights='imagenet', include_top=True)\n",
        "pre_model.summary()"
      ]
    },
    {
      "cell_type": "code",
      "execution_count": null,
      "metadata": {
        "id": "NvMGqIr45Chw"
      },
      "outputs": [],
      "source": [
        "num_classes = 2 # Tomates e ameixas\n",
        "\n",
        "inp = pre_model.input\n",
        "out_layer = Dense(num_classes, activation='softmax')\n",
        "out = out_layer(pre_model.layers[-2].output)\n",
        "new_model = Model(inp, out)"
      ]
    },
    {
      "cell_type": "code",
      "source": [
        "for l, layer in enumerate(new_model.layers[:-1]):\n",
        "  print(f'1 - {l}; {layer}')\n",
        "  layer.trainable = False\n",
        "\n",
        "for l, layer in enumerate(new_model.layers[-1:]):\n",
        "  print(f'2 - {l}; {layer}')\n",
        "  layer.trainable = True"
      ],
      "metadata": {
        "id": "2gzCrcjzscNc"
      },
      "execution_count": null,
      "outputs": []
    },
    {
      "cell_type": "code",
      "source": [
        "new_model.compile(loss='categorical_crossentropy',\n",
        "              optimizer='adam',\n",
        "              metrics=['accuracy'])\n",
        "\n",
        "new_model.summary()"
      ],
      "metadata": {
        "id": "u1tlBc-IKw5V"
      },
      "execution_count": null,
      "outputs": []
    },
    {
      "cell_type": "code",
      "source": [
        "# Pré-processamento das imagens\n",
        "\n",
        "root = 'Train'\n",
        "train_split, val_split = 0.7, 0.15\n",
        "\n",
        "categories = [x[0] for x in os.walk(root) if x[0]][1:]\n",
        "\n",
        "def get_image(path):\n",
        "    img = image.load_img(path, target_size=(299, 299))\n",
        "    x = image.img_to_array(img)\n",
        "    x = np.expand_dims(x, axis=0)\n",
        "    x = preprocess_input(x)\n",
        "    return img, x\n",
        "\n",
        "data = []\n",
        "for c, category in enumerate(categories):\n",
        "    images = [os.path.join(dp, f) for dp, dn, filenames \n",
        "              in os.walk(category) for f in filenames \n",
        "              if os.path.splitext(f)[1].lower() in ['.jpg','.png','.jpeg']]\n",
        "    for img_path in images:\n",
        "        img, x = get_image(img_path)\n",
        "        data.append({'x':np.array(x[0]), 'y':c})"
      ],
      "metadata": {
        "id": "RV3c-z-LLOxW"
      },
      "execution_count": null,
      "outputs": []
    },
    {
      "cell_type": "code",
      "source": [
        "random.shuffle(data)"
      ],
      "metadata": {
        "id": "oXkX7bGDPZZ3"
      },
      "execution_count": null,
      "outputs": []
    },
    {
      "cell_type": "code",
      "source": [
        "idx_val = int(train_split * len(data))\n",
        "idx_test = int((train_split + val_split) * len(data))\n",
        "train = data[:idx_val]\n",
        "val = data[idx_val:idx_test]\n",
        "test = data[idx_test:]"
      ],
      "metadata": {
        "id": "KDwiTnIvPqC4"
      },
      "execution_count": null,
      "outputs": []
    },
    {
      "cell_type": "code",
      "source": [
        "x_train, y_train = np.array([t[\"x\"] for t in train]), [t[\"y\"] for t in train]\n",
        "x_val, y_val = np.array([t[\"x\"] for t in val]), [t[\"y\"] for t in val]\n",
        "x_test, y_test = np.array([t[\"x\"] for t in test]), [t[\"y\"] for t in test]"
      ],
      "metadata": {
        "id": "lRTL7UhiRbcI"
      },
      "execution_count": null,
      "outputs": []
    },
    {
      "cell_type": "code",
      "source": [
        "# Liberando memória\n",
        "data.clear()\n",
        "train.clear()\n",
        "val.clear()\n",
        "test.clear()"
      ],
      "metadata": {
        "id": "qMG7vMrLX8BR"
      },
      "execution_count": null,
      "outputs": []
    },
    {
      "cell_type": "code",
      "source": [
        "# Normalizando o dados\n",
        "x_train = x_train.astype('float32') / 255.\n",
        "x_val = x_val.astype('float32') / 255.\n",
        "x_test = x_test.astype('float32') / 255.\n",
        "\n",
        "y_train = keras.utils.to_categorical(y_train, num_classes)\n",
        "y_val = keras.utils.to_categorical(y_val, num_classes)\n",
        "y_test = keras.utils.to_categorical(y_test, num_classes)\n",
        "\n",
        "y_train.shape"
      ],
      "metadata": {
        "id": "TsLUrgTvSihd"
      },
      "execution_count": null,
      "outputs": []
    },
    {
      "cell_type": "code",
      "source": [
        "# Exemplo de imagens\n",
        "\n",
        "images = [os.path.join(dp, f) for dp, dn, filenames in os.walk(root) for f in filenames if os.path.splitext(f)[1].lower() in ['.jpg','.png','.jpeg']]\n",
        "idx = [int(len(images) * random.random()) for i in range(8)]\n",
        "imgs = [image.load_img(images[i], target_size=(299, 299)) for i in idx]\n",
        "concat_image = np.concatenate([np.asarray(img) for img in imgs], axis=1)\n",
        "plt.figure(figsize=(16,4))\n",
        "plt.imshow(concat_image)"
      ],
      "metadata": {
        "id": "Y-TmycpKdjzl"
      },
      "execution_count": null,
      "outputs": []
    },
    {
      "cell_type": "code",
      "source": [
        "# Treinando o modelo\n",
        "\n",
        "history = new_model.fit(x_train, y_train,\n",
        "                    batch_size=128,\n",
        "                    epochs=10,\n",
        "                    validation_data=(x_val, y_val))"
      ],
      "metadata": {
        "id": "SLfz-IOpeNB8"
      },
      "execution_count": null,
      "outputs": []
    },
    {
      "cell_type": "code",
      "source": [
        "plt.imshow(x_test[4])\n",
        "pred = np.argmax(new_model.predict(np.expand_dims(x_test[4], axis=0)))\n",
        "\n",
        "if pred == 0: print('O modelo acha que é um tomate')\n",
        "if pred == 1: print('O modelo acha que é uma ameixa')\n",
        "print(y_test[4])"
      ],
      "metadata": {
        "id": "s_pmOGwMwWyK"
      },
      "execution_count": null,
      "outputs": []
    },
    {
      "cell_type": "code",
      "source": [
        "loss, accuracy = new_model.evaluate(x_test, y_test, verbose=0)"
      ],
      "metadata": {
        "id": "_rrlh98M1MX8"
      },
      "execution_count": null,
      "outputs": []
    },
    {
      "cell_type": "code",
      "source": [
        "accuracy # Acertou 99,4% das vezes"
      ],
      "metadata": {
        "id": "AjsqAIAi16g0"
      },
      "execution_count": null,
      "outputs": []
    },
    {
      "cell_type": "code",
      "source": [
        "loss"
      ],
      "metadata": {
        "id": "7hXfXU8j2LzZ"
      },
      "execution_count": null,
      "outputs": []
    }
  ],
  "metadata": {
    "colab": {
      "provenance": []
    },
    "kernelspec": {
      "display_name": "Python 3",
      "name": "python3"
    },
    "language_info": {
      "name": "python"
    }
  },
  "nbformat": 4,
  "nbformat_minor": 0
}